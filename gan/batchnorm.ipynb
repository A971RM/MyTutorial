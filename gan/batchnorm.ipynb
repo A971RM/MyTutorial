{
 "cells": [
  {
   "cell_type": "code",
   "execution_count": 1,
   "id": "1562c0d9-b74b-488e-b41c-981a28a52ca9",
   "metadata": {},
   "outputs": [],
   "source": [
    "import numpy as np\n",
    "import tensorflow as tf"
   ]
  },
  {
   "cell_type": "code",
   "execution_count": 2,
   "id": "453688d0-d3dc-497f-9cd0-28dc72f96b8f",
   "metadata": {},
   "outputs": [
    {
     "data": {
      "text/plain": [
       "('1.18.5', '2.3.0')"
      ]
     },
     "execution_count": 2,
     "metadata": {},
     "output_type": "execute_result"
    }
   ],
   "source": [
    "np.__version__, tf.__version__"
   ]
  },
  {
   "cell_type": "markdown",
   "id": "8dd17f88-1819-439a-bf99-b896c6bae44a",
   "metadata": {},
   "source": [
    "参考  \n",
    "https://www.tensorflow.org/versions/r2.3/api_docs/python/tf/keras/layers/BatchNormalization\n",
    "\n",
    "<img src=\"./images/bn_eq.png\" alt=\"drawing\" width=\"750\"/>"
   ]
  },
  {
   "cell_type": "markdown",
   "id": "bf63f74e-2071-411e-8939-c191152f380f",
   "metadata": {},
   "source": [
    "#### 最简形式\n",
    "\n",
    "```\n",
    "m = 3, x feature is scaler value\n",
    "```"
   ]
  },
  {
   "cell_type": "code",
   "execution_count": 3,
   "id": "7d7922f9-2dcf-40e9-a1c2-e4352e1a0b1d",
   "metadata": {},
   "outputs": [
    {
     "data": {
      "text/plain": [
       "(array([[1.],\n",
       "        [2.],\n",
       "        [3.]]),\n",
       " 3)"
      ]
     },
     "execution_count": 3,
     "metadata": {},
     "output_type": "execute_result"
    }
   ],
   "source": [
    "xs = np.array([[1.],\n",
    "               [2.],\n",
    "               [3.]], dtype=np.float)\n",
    "m, _ = xs.shape\n",
    "\n",
    "xs, m"
   ]
  },
  {
   "cell_type": "code",
   "execution_count": 4,
   "id": "6df6f394-5ee2-4761-ba02-319eaa1c82dc",
   "metadata": {},
   "outputs": [
    {
     "data": {
      "text/plain": [
       "array([2.])"
      ]
     },
     "execution_count": 4,
     "metadata": {},
     "output_type": "execute_result"
    }
   ],
   "source": [
    "miu_b = np.zeros_like(xs[0])\n",
    "for i in range(m):\n",
    "    miu_b += xs[i]\n",
    "miu_b /= m\n",
    "miu_b"
   ]
  },
  {
   "cell_type": "code",
   "execution_count": 5,
   "id": "94cf32f5-50ec-406d-bf3b-4fbcfa68b9b4",
   "metadata": {},
   "outputs": [
    {
     "data": {
      "text/plain": [
       "array([0.66666667])"
      ]
     },
     "execution_count": 5,
     "metadata": {},
     "output_type": "execute_result"
    }
   ],
   "source": [
    "sig_b2 = np.zeros_like(xs[0])\n",
    "for i in range(m):\n",
    "    sig_b2 += (xs[i] - miu_b) ** 2\n",
    "sig_b2 /= m\n",
    "sig_b2"
   ]
  },
  {
   "cell_type": "code",
   "execution_count": 6,
   "id": "53155fd6-bd1d-4d33-ab40-522ec1936ba9",
   "metadata": {},
   "outputs": [
    {
     "data": {
      "text/plain": [
       "array([0.])"
      ]
     },
     "execution_count": 6,
     "metadata": {},
     "output_type": "execute_result"
    }
   ],
   "source": [
    "threshold = 1e-8\n",
    "epsilon = np.where(sig_b2 < threshold, threshold, 0)\n",
    "epsilon"
   ]
  },
  {
   "cell_type": "code",
   "execution_count": 7,
   "id": "b7534f33-54eb-4fa2-b10f-bb6445239433",
   "metadata": {},
   "outputs": [
    {
     "data": {
      "text/plain": [
       "array([[-1.22474487],\n",
       "       [ 0.        ],\n",
       "       [ 1.22474487]])"
      ]
     },
     "execution_count": 7,
     "metadata": {},
     "output_type": "execute_result"
    }
   ],
   "source": [
    "xshat = (xs - miu_b) / (sig_b2 + epsilon) ** 0.5\n",
    "xshat"
   ]
  },
  {
   "cell_type": "markdown",
   "id": "af82f93f-86ab-4515-a29e-e61bd3f0b718",
   "metadata": {},
   "source": [
    "#### 封装为函数\n",
    "```\n",
    "满足多个特征\n",
    "```"
   ]
  },
  {
   "cell_type": "code",
   "execution_count": 8,
   "id": "302cb936-39c7-4a72-aca3-a1af6c3d9ad2",
   "metadata": {},
   "outputs": [],
   "source": [
    "def normal_equation(Xs, threshold=1e-8):\n",
    "    \"\"\"\n",
    "    对数据进行batch 归一化\n",
    "    batch在0轴\n",
    "    \"\"\"\n",
    "    \n",
    "    m = Xs.shape[0]\n",
    "    \n",
    "    miu_b = np.zeros_like(Xs[0])\n",
    "    for i in range(m):\n",
    "        miu_b += Xs[i]\n",
    "    miu_b /= m\n",
    "    \n",
    "    sig_b2 = np.zeros_like(Xs[0])\n",
    "    for i in range(m):\n",
    "        sig_b2 += (Xs[i] - miu_b) ** 2\n",
    "    sig_b2 /= m\n",
    "\n",
    "    epsilon = np.where(sig_b2 < threshold, threshold, 0)\n",
    "    Xshat = (Xs - miu_b) / (sig_b2 + epsilon) ** 0.5\n",
    "    return Xshat"
   ]
  },
  {
   "cell_type": "code",
   "execution_count": 9,
   "id": "9b54bfa0-0bb8-4a38-89e9-718d376daa2c",
   "metadata": {},
   "outputs": [
    {
     "data": {
      "text/plain": [
       "array([[-1.22474487, -1.22474487, -1.22474487, -1.22474487],\n",
       "       [ 0.        ,  0.        ,  0.        ,  0.        ],\n",
       "       [ 1.22474487,  1.22474487,  1.22474487,  1.22474487]])"
      ]
     },
     "execution_count": 9,
     "metadata": {},
     "output_type": "execute_result"
    }
   ],
   "source": [
    "Xs = np.array([[1.0, 10.0, 100.0, 1000.0],\n",
    "               [2.0, 20.0, 200.0, 2000.0],\n",
    "               [3.0, 30.0, 300.0, 3000.0]])\n",
    "normal_equation(Xs)"
   ]
  },
  {
   "cell_type": "code",
   "execution_count": 10,
   "id": "f612797b-6d13-4aa1-a9dc-c71196751d8f",
   "metadata": {},
   "outputs": [
    {
     "data": {
      "text/plain": [
       "((2, 3, 4),\n",
       " array([[[0., 0., 0., 0.],\n",
       "         [0., 0., 0., 0.],\n",
       "         [0., 0., 0., 0.]],\n",
       " \n",
       "        [[0., 0., 0., 0.],\n",
       "         [0., 0., 0., 0.],\n",
       "         [0., 0., 0., 0.]]]))"
      ]
     },
     "execution_count": 10,
     "metadata": {},
     "output_type": "execute_result"
    }
   ],
   "source": [
    "Xs = np.array([\n",
    "    [[1.0, 10.0, 100.0, 1000.0],\n",
    "     [2.0, 20.0, 200.0, 2000.0],\n",
    "     [3.0, 30.0, 300.0, 3000.0]],\n",
    "    \n",
    "    [[1.0, 10.0, 100.0, 1000.0],\n",
    "     [2.0, 20.0, 200.0, 2000.0],\n",
    "     [3.0, 30.0, 300.0, 3000.0]]\n",
    "])\n",
    "Xs.shape, normal_equation(Xs)"
   ]
  },
  {
   "cell_type": "code",
   "execution_count": 11,
   "id": "94e944d5-eba5-4fa1-bbde-432d7a0a6254",
   "metadata": {},
   "outputs": [
    {
     "data": {
      "text/plain": [
       "((1, 3, 4),\n",
       " array([[[0., 0., 0., 0.],\n",
       "         [0., 0., 0., 0.],\n",
       "         [0., 0., 0., 0.]]]))"
      ]
     },
     "execution_count": 11,
     "metadata": {},
     "output_type": "execute_result"
    }
   ],
   "source": [
    "Xs = np.array([\n",
    "    [[1.0, 10.0, 100.0, 1000.0],\n",
    "     [2.0, 20.0, 200.0, 2000.0],\n",
    "     [3.0, 30.0, 300.0, 3000.0]]])\n",
    "Xs.shape, normal_equation(Xs)"
   ]
  },
  {
   "cell_type": "markdown",
   "id": "fdc62bfb-baff-4b73-a9b2-02597e23f44f",
   "metadata": {},
   "source": [
    "#### 使用模块\n",
    "\n",
    "```\n",
    "tf.keras.layers.BatchNormalization(\n",
    "    axis=-1, momentum=0.99, epsilon=0.001, center=True, scale=True,\n",
    "    beta_initializer='zeros', gamma_initializer='ones',\n",
    "    moving_mean_initializer='zeros', moving_variance_initializer='ones',\n",
    "    beta_regularizer=None, gamma_regularizer=None, beta_constraint=None,\n",
    "    gamma_constraint=None, renorm=False, renorm_clipping=None, renorm_momentum=0.99,\n",
    "    fused=None, trainable=True, virtual_batch_size=None, adjustment=None, name=None,\n",
    "    **kwargs\n",
    ")\n",
    "```"
   ]
  },
  {
   "cell_type": "code",
   "execution_count": 12,
   "id": "9b5ac37c-f2a5-4570-adc9-0ff78d76abf4",
   "metadata": {},
   "outputs": [
    {
     "name": "stdout",
     "output_type": "stream",
     "text": [
      "WARNING:tensorflow:Layer batch_normalization is casting an input tensor from dtype float64 to the layer's dtype of float32, which is new behavior in TensorFlow 2.  The layer has dtype float32 because its dtype defaults to floatx.\n",
      "\n",
      "If you intended to run this layer in float32, you can safely ignore this warning. If in doubt, this warning is likely only an issue if you are porting a TensorFlow 1.X model to TensorFlow 2.\n",
      "\n",
      "To change all layers to have dtype float64 by default, call `tf.keras.backend.set_floatx('float64')`. To change just this layer, pass dtype='float64' to the layer constructor. If you are the author of this layer, you can disable autocasting by passing autocast=False to the base Layer constructor.\n",
      "\n"
     ]
    },
    {
     "data": {
      "text/plain": [
       "<tf.Tensor: shape=(3, 1), dtype=float32, numpy=\n",
       "array([[-1.2247448],\n",
       "       [ 0.       ],\n",
       "       [ 1.2247448]], dtype=float32)>"
      ]
     },
     "execution_count": 12,
     "metadata": {},
     "output_type": "execute_result"
    }
   ],
   "source": [
    "model = tf.keras.Sequential([\n",
    "    tf.keras.layers.BatchNormalization(epsilon=0, scale=False)\n",
    "])\n",
    "xs = np.array([[1.],\n",
    "               [2.],\n",
    "               [3.]], dtype=np.float)\n",
    "tf_xs = tf.convert_to_tensor(xs)\n",
    "model(tf_xs, training=True)"
   ]
  },
  {
   "cell_type": "code",
   "execution_count": 13,
   "id": "d2e415ad-b2bc-4117-bd89-575b391f24bb",
   "metadata": {},
   "outputs": [
    {
     "name": "stdout",
     "output_type": "stream",
     "text": [
      "WARNING:tensorflow:Layer batch_normalization_1 is casting an input tensor from dtype float64 to the layer's dtype of float32, which is new behavior in TensorFlow 2.  The layer has dtype float32 because its dtype defaults to floatx.\n",
      "\n",
      "If you intended to run this layer in float32, you can safely ignore this warning. If in doubt, this warning is likely only an issue if you are porting a TensorFlow 1.X model to TensorFlow 2.\n",
      "\n",
      "To change all layers to have dtype float64 by default, call `tf.keras.backend.set_floatx('float64')`. To change just this layer, pass dtype='float64' to the layer constructor. If you are the author of this layer, you can disable autocasting by passing autocast=False to the base Layer constructor.\n",
      "\n"
     ]
    },
    {
     "data": {
      "text/plain": [
       "<tf.Tensor: shape=(3, 4), dtype=float32, numpy=\n",
       "array([[-1.2247449, -1.2247448, -1.2247449, -1.2247448],\n",
       "       [ 0.       ,  0.       ,  0.       ,  0.       ],\n",
       "       [ 1.224745 ,  1.224745 ,  1.2247448,  1.2247448]], dtype=float32)>"
      ]
     },
     "execution_count": 13,
     "metadata": {},
     "output_type": "execute_result"
    }
   ],
   "source": [
    "model = tf.keras.Sequential([\n",
    "    tf.keras.layers.BatchNormalization(epsilon=0, scale=False)\n",
    "])\n",
    "Xs = np.array([[1.0, 10.0, 100.0, 1000.0],\n",
    "               [2.0, 20.0, 200.0, 2000.0],\n",
    "               [3.0, 30.0, 300.0, 3000.0]])\n",
    "tf_xs = tf.convert_to_tensor(Xs)\n",
    "model(tf_xs, training=True)"
   ]
  },
  {
   "cell_type": "code",
   "execution_count": 14,
   "id": "dad9af7a-74a5-4b42-ab3e-c18464c52da2",
   "metadata": {},
   "outputs": [
    {
     "name": "stdout",
     "output_type": "stream",
     "text": [
      "(2, 3, 4)\n",
      "WARNING:tensorflow:Layer batch_normalization_2 is casting an input tensor from dtype float64 to the layer's dtype of float32, which is new behavior in TensorFlow 2.  The layer has dtype float32 because its dtype defaults to floatx.\n",
      "\n",
      "If you intended to run this layer in float32, you can safely ignore this warning. If in doubt, this warning is likely only an issue if you are porting a TensorFlow 1.X model to TensorFlow 2.\n",
      "\n",
      "To change all layers to have dtype float64 by default, call `tf.keras.backend.set_floatx('float64')`. To change just this layer, pass dtype='float64' to the layer constructor. If you are the author of this layer, you can disable autocasting by passing autocast=False to the base Layer constructor.\n",
      "\n"
     ]
    },
    {
     "data": {
      "text/plain": [
       "<tf.Tensor: shape=(2, 3, 4), dtype=float32, numpy=\n",
       "array([[[0., 0., 0., 0.],\n",
       "        [0., 0., 0., 0.],\n",
       "        [0., 0., 0., 0.]],\n",
       "\n",
       "       [[0., 0., 0., 0.],\n",
       "        [0., 0., 0., 0.],\n",
       "        [0., 0., 0., 0.]]], dtype=float32)>"
      ]
     },
     "execution_count": 14,
     "metadata": {},
     "output_type": "execute_result"
    }
   ],
   "source": [
    "model = tf.keras.Sequential([\n",
    "    tf.keras.layers.BatchNormalization(axis=(1, 2), scale=False)\n",
    "])\n",
    "Xs = np.array([\n",
    "    [[1.0, 10.0, 100.0, 1000.0],\n",
    "     [2.0, 20.0, 200.0, 2000.0],\n",
    "     [3.0, 30.0, 300.0, 3000.0]],\n",
    "    \n",
    "    [[1.0, 10.0, 100.0, 1000.0],\n",
    "     [2.0, 20.0, 200.0, 2000.0],\n",
    "     [3.0, 30.0, 300.0, 3000.0]]\n",
    "])\n",
    "print(Xs.shape)\n",
    "tf_xs = tf.convert_to_tensor(Xs)\n",
    "model(tf_xs, training=True)"
   ]
  },
  {
   "cell_type": "markdown",
   "id": "ee4f1315-931a-4a54-8011-50a11ff2c163",
   "metadata": {},
   "source": [
    "#### 区别"
   ]
  },
  {
   "cell_type": "code",
   "execution_count": 15,
   "id": "7badd5f9-48f3-4c39-bc25-700aea25f30f",
   "metadata": {},
   "outputs": [
    {
     "name": "stdout",
     "output_type": "stream",
     "text": [
      "(2, 3, 4)\n",
      "WARNING:tensorflow:Layer batch_normalization_3 is casting an input tensor from dtype float64 to the layer's dtype of float32, which is new behavior in TensorFlow 2.  The layer has dtype float32 because its dtype defaults to floatx.\n",
      "\n",
      "If you intended to run this layer in float32, you can safely ignore this warning. If in doubt, this warning is likely only an issue if you are porting a TensorFlow 1.X model to TensorFlow 2.\n",
      "\n",
      "To change all layers to have dtype float64 by default, call `tf.keras.backend.set_floatx('float64')`. To change just this layer, pass dtype='float64' to the layer constructor. If you are the author of this layer, you can disable autocasting by passing autocast=False to the base Layer constructor.\n",
      "\n"
     ]
    },
    {
     "data": {
      "text/plain": [
       "<tf.Tensor: shape=(2, 3, 4), dtype=float32, numpy=\n",
       "array([[[-1.2238274, -1.2247357, -1.2247448, -1.2247448],\n",
       "        [ 0.       ,  0.       ,  0.       ,  0.       ],\n",
       "        [ 1.2238274,  1.2247355,  1.2247448,  1.2247448]],\n",
       "\n",
       "       [[-1.2238274, -1.2247357, -1.2247448, -1.2247448],\n",
       "        [ 0.       ,  0.       ,  0.       ,  0.       ],\n",
       "        [ 1.2238274,  1.2247355,  1.2247448,  1.2247448]]], dtype=float32)>"
      ]
     },
     "execution_count": 15,
     "metadata": {},
     "output_type": "execute_result"
    }
   ],
   "source": [
    "model = tf.keras.Sequential([\n",
    "    tf.keras.layers.BatchNormalization(axis=-1, scale=False)\n",
    "])\n",
    "Xs = np.array([\n",
    "    [[1.0, 10.0, 100.0, 1000.0],\n",
    "     [2.0, 20.0, 200.0, 2000.0],\n",
    "     [3.0, 30.0, 300.0, 3000.0]],\n",
    "    \n",
    "    [[1.0, 10.0, 100.0, 1000.0],\n",
    "     [2.0, 20.0, 200.0, 2000.0],\n",
    "     [3.0, 30.0, 300.0, 3000.0]]\n",
    "])\n",
    "print(Xs.shape)\n",
    "tf_xs = tf.convert_to_tensor(Xs)\n",
    "model(tf_xs, training=True)"
   ]
  },
  {
   "cell_type": "code",
   "execution_count": 16,
   "id": "21685473-ee6c-454f-bc47-67b61bc25370",
   "metadata": {},
   "outputs": [
    {
     "data": {
      "text/plain": [
       "array([[[-1.22474487, -1.22474487, -1.22474487, -1.22474487],\n",
       "        [ 0.        ,  0.        ,  0.        ,  0.        ],\n",
       "        [ 1.22474487,  1.22474487,  1.22474487,  1.22474487]],\n",
       "\n",
       "       [[-1.22474487, -1.22474487, -1.22474487, -1.22474487],\n",
       "        [ 0.        ,  0.        ,  0.        ,  0.        ],\n",
       "        [ 1.22474487,  1.22474487,  1.22474487,  1.22474487]]])"
      ]
     },
     "execution_count": 16,
     "metadata": {},
     "output_type": "execute_result"
    }
   ],
   "source": [
    "Xs = np.array([\n",
    "    [[1.0, 10.0, 100.0, 1000.0],\n",
    "     [2.0, 20.0, 200.0, 2000.0],\n",
    "     [3.0, 30.0, 300.0, 3000.0]],\n",
    "    \n",
    "    [[1.0, 10.0, 100.0, 1000.0],\n",
    "     [2.0, 20.0, 200.0, 2000.0],\n",
    "     [3.0, 30.0, 300.0, 3000.0]]\n",
    "])\n",
    "\n",
    "Xs2 = Xs.reshape([-1, 4])\n",
    "normal_equation(Xs2).reshape(Xs.shape)"
   ]
  },
  {
   "cell_type": "code",
   "execution_count": 17,
   "id": "8813a81b-9580-4daf-a612-6968803536b3",
   "metadata": {},
   "outputs": [
    {
     "data": {
      "text/plain": [
       "array([[1.e+00, 1.e+01, 1.e+02, 1.e+03],\n",
       "       [2.e+00, 2.e+01, 2.e+02, 2.e+03],\n",
       "       [3.e+00, 3.e+01, 3.e+02, 3.e+03],\n",
       "       [1.e+00, 1.e+01, 1.e+02, 1.e+03],\n",
       "       [2.e+00, 2.e+01, 2.e+02, 2.e+03],\n",
       "       [3.e+00, 3.e+01, 3.e+02, 3.e+03]])"
      ]
     },
     "execution_count": 17,
     "metadata": {},
     "output_type": "execute_result"
    }
   ],
   "source": [
    "Xs2"
   ]
  },
  {
   "cell_type": "markdown",
   "id": "6ca1f914-7f69-43ad-bd79-f962de0d5b2c",
   "metadata": {},
   "source": [
    "#### 结论\n",
    "\n",
    "```\n",
    "tf.keras.layers.BatchNormalization 指定的属性axis为特征轴，其他都会转化为batch数据的矩阵进行计算\n",
    "\n",
    "```"
   ]
  },
  {
   "cell_type": "code",
   "execution_count": 18,
   "id": "94cf5f21-a9f1-4c30-af2f-02c0276035cd",
   "metadata": {},
   "outputs": [
    {
     "name": "stdout",
     "output_type": "stream",
     "text": [
      "(2, 3, 4)\n",
      "WARNING:tensorflow:Layer layer_normalization is casting an input tensor from dtype float64 to the layer's dtype of float32, which is new behavior in TensorFlow 2.  The layer has dtype float32 because its dtype defaults to floatx.\n",
      "\n",
      "If you intended to run this layer in float32, you can safely ignore this warning. If in doubt, this warning is likely only an issue if you are porting a TensorFlow 1.X model to TensorFlow 2.\n",
      "\n",
      "To change all layers to have dtype float64 by default, call `tf.keras.backend.set_floatx('float64')`. To change just this layer, pass dtype='float64' to the layer constructor. If you are the author of this layer, you can disable autocasting by passing autocast=False to the base Layer constructor.\n",
      "\n"
     ]
    },
    {
     "data": {
      "text/plain": [
       "<tf.Tensor: shape=(2, 3, 4), dtype=float32, numpy=\n",
       "array([[[-0.5945305 , -0.58488077, -0.48838347,  0.4765894 ],\n",
       "        [-0.5934583 , -0.57415885, -0.38116428,  1.5487815 ],\n",
       "        [-0.5923861 , -0.5634369 , -0.27394506,  2.6209736 ]],\n",
       "\n",
       "       [[-0.5945305 , -0.58488077, -0.48838347,  0.4765894 ],\n",
       "        [-0.5934583 , -0.57415885, -0.38116428,  1.5487815 ],\n",
       "        [-0.5923861 , -0.5634369 , -0.27394506,  2.6209736 ]]],\n",
       "      dtype=float32)>"
      ]
     },
     "execution_count": 18,
     "metadata": {},
     "output_type": "execute_result"
    }
   ],
   "source": [
    "model = tf.keras.Sequential([\n",
    "    tf.keras.layers.LayerNormalization(axis=(1, 2), scale=False)\n",
    "])\n",
    "Xs = np.array([\n",
    "    [[1.0, 10.0, 100.0, 1000.0],\n",
    "     [2.0, 20.0, 200.0, 2000.0],\n",
    "     [3.0, 30.0, 300.0, 3000.0]],\n",
    "    \n",
    "    [[1.0, 10.0, 100.0, 1000.0],\n",
    "     [2.0, 20.0, 200.0, 2000.0],\n",
    "     [3.0, 30.0, 300.0, 3000.0]]\n",
    "])\n",
    "print(Xs.shape)\n",
    "tf_xs = tf.convert_to_tensor(Xs)\n",
    "model(tf_xs, training=True)"
   ]
  },
  {
   "cell_type": "code",
   "execution_count": 19,
   "id": "57ee762c-57ea-47ea-baf7-76d032861b87",
   "metadata": {},
   "outputs": [
    {
     "data": {
      "text/plain": [
       "array([[-0.59453051, -0.58488078, -0.48838349,  0.47658938],\n",
       "       [-0.59345832, -0.57415886, -0.38116428,  1.54878146],\n",
       "       [-0.59238612, -0.56343694, -0.27394508,  2.62097354]])"
      ]
     },
     "execution_count": 19,
     "metadata": {},
     "output_type": "execute_result"
    }
   ],
   "source": [
    "tmparr = np.array([[1.0, 10.0, 100.0, 1000.0],\n",
    "                   [2.0, 20.0, 200.0, 2000.0],\n",
    "                   [3.0, 30.0, 300.0, 3000.0]])\n",
    "\n",
    "miu = tmparr.mean()\n",
    "sig = np.mean((tmparr - miu) ** 2)\n",
    "(tmparr - miu) / sig ** 0.5"
   ]
  },
  {
   "cell_type": "code",
   "execution_count": null,
   "id": "aecf33a8-b5b1-46ac-8cfe-65c15fded410",
   "metadata": {},
   "outputs": [],
   "source": []
  }
 ],
 "metadata": {
  "kernelspec": {
   "display_name": "Python 3 (ipykernel)",
   "language": "python",
   "name": "python3"
  },
  "language_info": {
   "codemirror_mode": {
    "name": "ipython",
    "version": 3
   },
   "file_extension": ".py",
   "mimetype": "text/x-python",
   "name": "python",
   "nbconvert_exporter": "python",
   "pygments_lexer": "ipython3",
   "version": "3.7.13"
  }
 },
 "nbformat": 4,
 "nbformat_minor": 5
}
